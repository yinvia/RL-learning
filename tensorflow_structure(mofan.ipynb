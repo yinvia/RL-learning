{
 "cells": [
  {
   "cell_type": "code",
   "execution_count": 1,
   "metadata": {
    "scrolled": true
   },
   "outputs": [],
   "source": [
    "import tensorflow as tf\n",
    "import numpy as np"
   ]
  },
  {
   "cell_type": "code",
   "execution_count": 2,
   "metadata": {
    "scrolled": true
   },
   "outputs": [],
   "source": [
    "#create data\n",
    "x_data=np.random.rand(100).astype(np.float32)\n",
    "y_data=x_data*0.1+0.3"
   ]
  },
  {
   "cell_type": "code",
   "execution_count": 32,
   "metadata": {},
   "outputs": [
    {
     "name": "stdout",
     "output_type": "stream",
     "text": [
      "0 [-0.29036543] [0.6450897]\n",
      "20 [0.00151431] [0.34867013]\n",
      "40 [0.07848433] [0.31063274]\n",
      "60 [0.09529959] [0.3023229]\n",
      "80 [0.09897313] [0.3005075]\n",
      "100 [0.09977567] [0.30011088]\n",
      "120 [0.099951] [0.30002424]\n",
      "140 [0.09998929] [0.30000532]\n",
      "160 [0.09999765] [0.30000117]\n",
      "180 [0.09999948] [0.30000028]\n"
     ]
    }
   ],
   "source": [
    "###create tensorflow structure start结构###\n",
    "tf.compat.v1.disable_eager_execution()\n",
    "Weights=tf.Variable(tf.compat.v1.random_uniform([1],-1.0,1.0))#用随机参数定义参数变量\n",
    "biases=tf.Variable(tf.zeros([1]))\n",
    "\n",
    "y=Weights*x_data+biases\n",
    "\n",
    "loss=tf.reduce_mean(tf.square(y-y_data))\n",
    "optimizer=tf.compat.v1.train.GradientDescentOptimizer(0.5)#优化器用来减少误差，0.5是学习效率\n",
    "\n",
    "train=optimizer.minimize(loss)\n",
    "\n",
    "init=tf.compat.v1.initialize_all_variables()#初始化变量weights\n",
    "#create tensorflow structure start###\n",
    "\n",
    "#激活init和结构\n",
    "sess=tf.compat.v1.Session()#对话控制\n",
    "sess.run(init)\n",
    "\n",
    "for step in range(200):\n",
    "    sess.run(train)\n",
    "    if step%20==0:\n",
    "        print(step,sess.run(Weights),sess.run(biases))"
   ]
  },
  {
   "cell_type": "code",
   "execution_count": 34,
   "metadata": {},
   "outputs": [
    {
     "name": "stdout",
     "output_type": "stream",
     "text": [
      "[[12]]\n"
     ]
    }
   ],
   "source": [
    "#session打开模式\n",
    "\n",
    "matrix1=tf.constant([[3,3]])\n",
    "matrix2=tf.constant([[2],\n",
    "                     [2]])\n",
    "product=tf.matmul(matrix1,matrix2)#matrix multiply np.dot(m1,m2)\n",
    "\n",
    "#method 1\n",
    "sess=tf.compat.v1.Session()\n",
    "result=sess.run(product)\n",
    "print(result)\n",
    "sess.close()\n",
    "\n"
   ]
  },
  {
   "cell_type": "code",
   "execution_count": 35,
   "metadata": {},
   "outputs": [
    {
     "name": "stdout",
     "output_type": "stream",
     "text": [
      "[[12]]\n"
     ]
    }
   ],
   "source": [
    "#session\n",
    "\n",
    "matrix1=tf.constant([[3,3]])\n",
    "matrix2=tf.constant([[2],\n",
    "                     [2]])\n",
    "product=tf.matmul(matrix1,matrix2)#matrix multiply np.dot(m1,m2)\n",
    "\n",
    "#method2，不需要关闭session\n",
    "with tf.compat.v1.Session() as sess:\n",
    "    result2=sess.run(product)\n",
    "    print(result2)"
   ]
  },
  {
   "cell_type": "code",
   "execution_count": 50,
   "metadata": {},
   "outputs": [
    {
     "name": "stdout",
     "output_type": "stream",
     "text": [
      "1\n",
      "2\n",
      "3\n"
     ]
    }
   ],
   "source": [
    "#variable，加法器\n",
    "\n",
    "state=tf.compat.v1.Variable(0,name='counter')\n",
    "one=tf.compat.v1.constant(1)\n",
    "new_value=tf.compat.v1.add(state,one)\n",
    "update=tf.compat.v1.assign(state,new_value)\n",
    "\n",
    "init=tf.compat.v1.global_variables_initializer()#因为定义了variable，所以要有variable的初始化\n",
    "\n",
    "with tf.compat.v1.Session() as sess:\n",
    "    sess.run(init)#定义了session后，一定要run一次init，也是variable的初始化\n",
    "    for _ in range(3):\n",
    "        sess.run(update)\n",
    "        print(sess.run(state))"
   ]
  },
  {
   "cell_type": "code",
   "execution_count": 58,
   "metadata": {},
   "outputs": [
    {
     "name": "stdout",
     "output_type": "stream",
     "text": [
      "[14.]\n"
     ]
    }
   ],
   "source": [
    "#placeholder:在运行时再传入初始值\n",
    "#好处在于不知道值的情况下提前设定运算逻辑\n",
    "import tensorflow as tf\n",
    "input1=tf.compat.v1.placeholder(tf.float32)\n",
    "input2=tf.compat.v1.placeholder(tf.float32)\n",
    "\n",
    "output=tf.multiply(input1,input2)\n",
    "\n",
    "with tf.compat.v1.Session() as sess:\n",
    "    print(sess.run(output,feed_dict={input1:[7.],input2:[2.0]}))"
   ]
  },
  {
   "cell_type": "code",
   "execution_count": null,
   "metadata": {},
   "outputs": [],
   "source": [
    "#激励函数：解决不能用线性方程解决的问题，利用AF把线性方程变成非线性方程\n",
    "#卷积relu\n",
    "#循环神经网络，relu,tanh"
   ]
  },
  {
   "cell_type": "code",
   "execution_count": null,
   "metadata": {},
   "outputs": [],
   "source": []
  },
  {
   "cell_type": "code",
   "execution_count": null,
   "metadata": {},
   "outputs": [],
   "source": []
  }
 ],
 "metadata": {
  "kernelspec": {
   "display_name": "Python 3",
   "language": "python",
   "name": "python3"
  },
  "language_info": {
   "codemirror_mode": {
    "name": "ipython",
    "version": 3
   },
   "file_extension": ".py",
   "mimetype": "text/x-python",
   "name": "python",
   "nbconvert_exporter": "python",
   "pygments_lexer": "ipython3",
   "version": "3.6.5"
  }
 },
 "nbformat": 4,
 "nbformat_minor": 2
}
