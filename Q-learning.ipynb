{
 "cells": [
  {
   "cell_type": "code",
   "execution_count": 1,
   "metadata": {},
   "outputs": [],
   "source": [
    "import numpy as np\n",
    "import random\n"
   ]
  },
  {
   "cell_type": "code",
   "execution_count": 2,
   "metadata": {},
   "outputs": [],
   "source": [
    "r = np.array([[-1, -1, -1, -1, 0, -1], [-1, -1, -1, 0, -1, 100], [-1, -1, -1, 0, -1, -1], [-1, 0, 0, -1, 0, -1],\n",
    "              [0, -1, -1, 0, -1, 100], [-1, 0, -1, -1, 0, 100]])\n",
    "q = np.zeros([6, 6], np.float)\n",
    "greed = 0.8\n",
    "episode = 0\n"
   ]
  },
  {
   "cell_type": "code",
   "execution_count": 4,
   "metadata": {},
   "outputs": [
    {
     "name": "stdout",
     "output_type": "stream",
     "text": [
      "100\n",
      "200\n",
      "300\n",
      "400\n",
      "500\n",
      "600\n",
      "700\n",
      "800\n",
      "900\n",
      "1000\n"
     ]
    }
   ],
   "source": [
    "while episode < 1000:\n",
    "    state = np.random.randint(0, 5)\n",
    "    if state != 5:\n",
    "        next_state_list =[]\n",
    "        for i in range(6):\n",
    "            if r[state, i] != -1:\n",
    "                next_state_list.append(i)\n",
    "        if len(next_state_list) > 0:\n",
    "            next_state = next_state_list[random.randint(0, len(next_state_list)-1)]\n",
    "            q[state, next_state] = r[state, next_state] + greed*max(q[next_state])\n",
    "    episode = episode + 1\n",
    "    if episode % 100 == 0:\n",
    "        print(episode)"
   ]
  },
  {
   "cell_type": "code",
   "execution_count": 6,
   "metadata": {},
   "outputs": [
    {
     "name": "stdout",
     "output_type": "stream",
     "text": [
      "robot 处于0位置\n",
      "path is :\n",
      "[0, 4, 5]\n",
      "robot 处于1位置\n",
      "path is :\n",
      "[1, 5]\n",
      "robot 处于2位置\n",
      "path is :\n",
      "[2, 3, 1, 5]\n",
      "robot 处于3位置\n",
      "path is :\n",
      "[3, 1, 5]\n",
      "robot 处于4位置\n",
      "path is :\n",
      "[4, 5]\n"
     ]
    }
   ],
   "source": [
    "i = 0\n",
    "while i < 5:\n",
    "    state = i\n",
    "    i= i+1\n",
    "    print(\"robot 处于{}位置\".format(state))\n",
    "    count = 0\n",
    "    list =[]\n",
    "    while state != 5:\n",
    "        if count > 11:\n",
    "            print (\"failed ! \\n\")\n",
    "            break\n",
    "        list.append(state)\n",
    "        next_state = q[state].argmax()\n",
    "        count = count + 1\n",
    "        state = next_state\n",
    "    list.append(5)\n",
    "    print ('path is :')\n",
    "    print(list)"
   ]
  },
  {
   "cell_type": "code",
   "execution_count": null,
   "metadata": {},
   "outputs": [],
   "source": []
  }
 ],
 "metadata": {
  "kernelspec": {
   "display_name": "Python 3",
   "language": "python",
   "name": "python3"
  },
  "language_info": {
   "codemirror_mode": {
    "name": "ipython",
    "version": 3
   },
   "file_extension": ".py",
   "mimetype": "text/x-python",
   "name": "python",
   "nbconvert_exporter": "python",
   "pygments_lexer": "ipython3",
   "version": "3.6.5"
  }
 },
 "nbformat": 4,
 "nbformat_minor": 2
}
